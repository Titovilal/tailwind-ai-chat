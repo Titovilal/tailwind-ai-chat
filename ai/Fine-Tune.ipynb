{
 "cells": [
  {
   "cell_type": "code",
   "execution_count": 38,
   "metadata": {},
   "outputs": [],
   "source": [
    "import requests\n",
    "from bs4 import BeautifulSoup\n",
    "import csv\n",
    "\n",
    "# Descargar la página web\n",
    "name = \"break-before\"\n",
    "url = f\"https://tailwindcss.com/docs/{name}\"\n",
    "\n",
    "response = requests.get(url)\n",
    "\n",
    "# Extraer los bloques de código con BeautifulSoup\n",
    "soup = BeautifulSoup(response.text, 'html.parser')\n",
    "code_blocks = soup.find_all('code')\n",
    "\n",
    "# Guardar los bloques de código en un archivo CSV\n",
    "with open('codigo-layout.csv', 'a', newline='') as file:\n",
    "    writer = csv.writer(file)\n",
    "    for block in code_blocks:\n",
    "        writer.writerow([name, block.text])"
   ]
  }
 ],
 "metadata": {
  "kernelspec": {
   "display_name": ".env",
   "language": "python",
   "name": "python3"
  },
  "language_info": {
   "codemirror_mode": {
    "name": "ipython",
    "version": 3
   },
   "file_extension": ".py",
   "mimetype": "text/x-python",
   "name": "python",
   "nbconvert_exporter": "python",
   "pygments_lexer": "ipython3",
   "version": "3.11.7"
  }
 },
 "nbformat": 4,
 "nbformat_minor": 2
}
